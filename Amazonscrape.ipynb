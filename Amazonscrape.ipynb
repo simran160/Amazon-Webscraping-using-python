{
 "cells": [
  {
   "cell_type": "code",
   "execution_count": 66,
   "metadata": {},
   "outputs": [],
   "source": [
    "#import libraries\n",
    "from bs4 import BeautifulSoup\n",
    "import requests\n",
    "import smtplib\n",
    "import time\n",
    "import datetime\n",
    "import re"
   ]
  },
  {
   "cell_type": "code",
   "execution_count": null,
   "metadata": {},
   "outputs": [
    {
     "name": "stdout",
     "output_type": "stream",
     "text": [
      "Heybroh Men's Regular Fit T-Shirt Talk Data to Me - Data Scientist Funny 100% Cotton T-Shirt\n",
      "899\n"
     ]
    }
   ],
   "source": [
    "\n",
    "#Connect to website\n",
    "URL = 'https://www.amazon.in/Heybroh-Mens-Regular-T-Shirt-Talk/dp/B0BTMW4ZT7/ref=sr_1_5?crid=12D4FPB7VJTVE&dib=eyJ2IjoiMSJ9.etCq6xcHvvIY3hffOwZs88EBicCs-SjSKN9CvrfFy3Mq_z9HrfliE4EsDtYzT3E7f7Xwt48oHCuYit7maHr9jfLQ7aRICDJ5jqCqjb_dptLOiZGC5egoOOZdjev225jx8IaLhKsGhXLjWIPky3x-q0yACEBZBLC7Vu9zuwk25HrI1d8uqzAuoK-nxzOI5Dwx2AupGaGoQE--M-2CFAwT7XqdctCbbt69B14wgJgs3U4iNmXdSUSQLDHx63tTNpCfFi69NcQvncH2uDITYLBWF3TUTl8BEMHMpOLwdo7kaxTljCRSGgliOq9grISU4DYeNlqhm9GScActhe-apXBfMMRFQbV4c9XONJv9CsMxx5E8eelp6muTvpu7cOfczjDM.PVRbwtpVzlocFF0VdtXrj4mJ0XaYAjEaTnwkFcul4vc&dib_tag=se&keywords=data+%2B+analyst+%2B+tshirt&qid=1734706715&sprefix=data+%2B+analyst+%2B+tshir%2Caps%2C359&sr=8-5'\n",
    "\n",
    "\n",
    "#Many websites check the User-Agent to determine whether the request is from a real user or an automated script. Using a realistic User-Agent helps bypass these checks.\n",
    "#headers: A dictionary that defines custom HTTP headers to send with the request.\n",
    "#User-Agent: A string that identifies the software making the request.\n",
    "HEADERS = {\n",
    "    \"User-Agent\": \"Mozilla/5.0 (Macintosh; Intel Mac OS X 10_15_7) AppleWebKit/537.36 (KHTML, like Gecko) Chrome/114.0.0.0 Safari/537.36 Edg/114.0.1823.51\",\n",
    "    \"Accept-Language\": \"en-US,en;q=0.9\",\n",
    "}\n",
    "\n",
    "#requests.get: Sends an HTTP GET request to the specified URL.\n",
    "#headers=headers: Includes the custom User-Agent in the request to make it appear as if the request is coming from the specified browser.\n",
    "page = requests.get(URL, headers= HEADERS)\n",
    "if page.status_code != 200:\n",
    "    print(\"Failed to fetch the webpage.\")\n",
    "\n",
    "#Parse the HTML content\n",
    "soup1 = BeautifulSoup(page.content,\"html.parser\")\n",
    "\n",
    "#\n",
    "soup2 = BeautifulSoup(soup1.prettify(),'html.parser')\n",
    "\n",
    "title = soup2.find(id='productTitle').get_text().strip()\n",
    "print(title)\n",
    "\n",
    "price = soup2.find(class_=\"a-price-whole\").get_text().strip()\n",
    "print(price)"
   ]
  },
  {
   "cell_type": "code",
   "execution_count": 104,
   "metadata": {},
   "outputs": [
    {
     "name": "stdout",
     "output_type": "stream",
     "text": [
      "Heybroh Men's Regular Fit T-Shirt Talk Data to Me - Data Scientist Funny 100% Cotton T-Shirt\n",
      "899\n"
     ]
    }
   ],
   "source": [
    "print(title)\n",
    "print(price)"
   ]
  },
  {
   "cell_type": "code",
   "execution_count": 120,
   "metadata": {},
   "outputs": [
    {
     "name": "stdout",
     "output_type": "stream",
     "text": [
      "2024-12-20\n"
     ]
    }
   ],
   "source": [
    "import datetime\n",
    "\n",
    "today = datetime.date.today()\n",
    "print(today)"
   ]
  },
  {
   "cell_type": "code",
   "execution_count": 122,
   "metadata": {},
   "outputs": [],
   "source": [
    "import csv\n",
    "\n",
    "header = ['Title','Price','Date']\n",
    "data = [title,price,today]\n",
    "\n",
    "with open('/Users/simrankaur/Desktop/Projects/Python/Amazon Web Scraper /Amazonscrapedataset.csv','w', newline='', encoding='UTF8') as f:\n",
    "    writer = csv.writer(f)\n",
    "    writer.writerow(header)\n",
    "    writer.writerow(data)"
   ]
  },
  {
   "cell_type": "code",
   "execution_count": 135,
   "metadata": {},
   "outputs": [
    {
     "name": "stdout",
     "output_type": "stream",
     "text": [
      "                                               Title  Price        Date\n",
      "0  Heybroh Men's Regular Fit T-Shirt Talk Data to...    899  2024-12-20\n",
      "1  Heybroh Men's Regular Fit T-Shirt Talk Data to...    899  2024-12-20\n",
      "2  Heybroh Men's Regular Fit T-Shirt Talk Data to...    899  2024-12-20\n"
     ]
    }
   ],
   "source": [
    "import pandas as pd\n",
    "\n",
    "df = pd.read_csv('/Users/simrankaur/Desktop/Projects/Python/Amazon Web Scraper /Amazonscrapedataset.csv')\n",
    "print(df)"
   ]
  },
  {
   "cell_type": "code",
   "execution_count": 125,
   "metadata": {},
   "outputs": [],
   "source": [
    "#appending data to csv\n",
    "\n",
    "with open('/Users/simrankaur/Desktop/Projects/Python/Amazon Web Scraper /Amazonscrapedataset.csv','a+', newline='', encoding='UTF8') as f:\n",
    "    writer = csv.writer(f)\n",
    "    writer.writerow(data)"
   ]
  },
  {
   "cell_type": "code",
   "execution_count": 141,
   "metadata": {},
   "outputs": [],
   "source": [
    "def check_price():\n",
    "    URL = 'https://www.amazon.in/Heybroh-Mens-Regular-T-Shirt-Talk/dp/B0BTMW4ZT7/ref=sr_1_5?crid=12D4FPB7VJTVE&dib=eyJ2IjoiMSJ9.etCq6xcHvvIY3hffOwZs88EBicCs-SjSKN9CvrfFy3Mq_z9HrfliE4EsDtYzT3E7f7Xwt48oHCuYit7maHr9jfLQ7aRICDJ5jqCqjb_dptLOiZGC5egoOOZdjev225jx8IaLhKsGhXLjWIPky3x-q0yACEBZBLC7Vu9zuwk25HrI1d8uqzAuoK-nxzOI5Dwx2AupGaGoQE--M-2CFAwT7XqdctCbbt69B14wgJgs3U4iNmXdSUSQLDHx63tTNpCfFi69NcQvncH2uDITYLBWF3TUTl8BEMHMpOLwdo7kaxTljCRSGgliOq9grISU4DYeNlqhm9GScActhe-apXBfMMRFQbV4c9XONJv9CsMxx5E8eelp6muTvpu7cOfczjDM.PVRbwtpVzlocFF0VdtXrj4mJ0XaYAjEaTnwkFcul4vc&dib_tag=se&keywords=data+%2B+analyst+%2B+tshirt&qid=1734706715&sprefix=data+%2B+analyst+%2B+tshir%2Caps%2C359&sr=8-5'\n",
    "\n",
    "\n",
    "    HEADERS = {\n",
    "        \"User-Agent\": \"Mozilla/5.0 (Macintosh; Intel Mac OS X 10_15_7) AppleWebKit/537.36 (KHTML, like Gecko) Chrome/114.0.0.0 Safari/537.36 Edg/114.0.1823.51\",\n",
    "        \"Accept-Language\": \"en-US,en;q=0.9\",\n",
    "    }\n",
    "\n",
    "    page = requests.get(URL, headers= HEADERS)\n",
    "    if page.status_code != 200:\n",
    "        print(\"Failed to fetch the webpage.\")\n",
    "\n",
    "    soup1 = BeautifulSoup(page.content,\"html.parser\")\n",
    "\n",
    "    soup2 = BeautifulSoup(soup1.prettify(),'html.parser')\n",
    "\n",
    "    title = soup2.find(id='productTitle').get_text().strip()\n",
    "\n",
    "    price = soup2.find(class_=\"a-price-whole\").get_text().strip()\n",
    "\n",
    "    import datetime\n",
    "\n",
    "    today = datetime.date.today()\n",
    "\n",
    "    import csv\n",
    "\n",
    "    header = ['Title','Price','Date']\n",
    "    data = [title,price,today]\n",
    "    "
   ]
  },
  {
   "cell_type": "code",
   "execution_count": 139,
   "metadata": {},
   "outputs": [
    {
     "ename": "AttributeError",
     "evalue": "'NoneType' object has no attribute 'get_text'",
     "output_type": "error",
     "traceback": [
      "\u001b[0;31m---------------------------------------------------------------------------\u001b[0m",
      "\u001b[0;31mAttributeError\u001b[0m                            Traceback (most recent call last)",
      "Cell \u001b[0;32mIn[139], line 2\u001b[0m\n\u001b[1;32m      1\u001b[0m \u001b[38;5;28;01mwhile\u001b[39;00m(\u001b[38;5;28;01mTrue\u001b[39;00m):\n\u001b[0;32m----> 2\u001b[0m     \u001b[43mcheck_price\u001b[49m\u001b[43m(\u001b[49m\u001b[43m)\u001b[49m\n\u001b[1;32m      3\u001b[0m     time\u001b[38;5;241m.\u001b[39msleep(\u001b[38;5;241m5\u001b[39m)\n",
      "Cell \u001b[0;32mIn[127], line 18\u001b[0m, in \u001b[0;36mcheck_price\u001b[0;34m()\u001b[0m\n\u001b[1;32m     14\u001b[0m soup1 \u001b[38;5;241m=\u001b[39m BeautifulSoup(page\u001b[38;5;241m.\u001b[39mcontent,\u001b[38;5;124m\"\u001b[39m\u001b[38;5;124mhtml.parser\u001b[39m\u001b[38;5;124m\"\u001b[39m)\n\u001b[1;32m     16\u001b[0m soup2 \u001b[38;5;241m=\u001b[39m BeautifulSoup(soup1\u001b[38;5;241m.\u001b[39mprettify(),\u001b[38;5;124m'\u001b[39m\u001b[38;5;124mhtml.parser\u001b[39m\u001b[38;5;124m'\u001b[39m)\n\u001b[0;32m---> 18\u001b[0m title \u001b[38;5;241m=\u001b[39m \u001b[43msoup2\u001b[49m\u001b[38;5;241;43m.\u001b[39;49m\u001b[43mfind\u001b[49m\u001b[43m(\u001b[49m\u001b[38;5;28;43mid\u001b[39;49m\u001b[38;5;241;43m=\u001b[39;49m\u001b[38;5;124;43m'\u001b[39;49m\u001b[38;5;124;43mproductTitle\u001b[39;49m\u001b[38;5;124;43m'\u001b[39;49m\u001b[43m)\u001b[49m\u001b[38;5;241;43m.\u001b[39;49m\u001b[43mget_text\u001b[49m()\u001b[38;5;241m.\u001b[39mstrip()\n\u001b[1;32m     20\u001b[0m price \u001b[38;5;241m=\u001b[39m soup2\u001b[38;5;241m.\u001b[39mfind(class_\u001b[38;5;241m=\u001b[39m\u001b[38;5;124m\"\u001b[39m\u001b[38;5;124ma-price-whole\u001b[39m\u001b[38;5;124m\"\u001b[39m)\u001b[38;5;241m.\u001b[39mget_text()\u001b[38;5;241m.\u001b[39mstrip()\n\u001b[1;32m     22\u001b[0m \u001b[38;5;28;01mimport\u001b[39;00m \u001b[38;5;21;01mdatetime\u001b[39;00m\n",
      "\u001b[0;31mAttributeError\u001b[0m: 'NoneType' object has no attribute 'get_text'"
     ]
    }
   ],
   "source": [
    "while(True):\n",
    "    check_price()\n",
    "    time.sleep(5)"
   ]
  },
  {
   "cell_type": "code",
   "execution_count": 142,
   "metadata": {},
   "outputs": [
    {
     "name": "stdout",
     "output_type": "stream",
     "text": [
      "                                               Title  Price        Date\n",
      "0  Heybroh Men's Regular Fit T-Shirt Talk Data to...    899  2024-12-20\n",
      "1  Heybroh Men's Regular Fit T-Shirt Talk Data to...    899  2024-12-20\n",
      "2  Heybroh Men's Regular Fit T-Shirt Talk Data to...    899  2024-12-20\n"
     ]
    }
   ],
   "source": [
    "import pandas as pd\n",
    "\n",
    "df = pd.read_csv('/Users/simrankaur/Desktop/Projects/Python/Amazon Web Scraper /Amazonscrapedataset.csv')\n",
    "print(df)"
   ]
  }
 ],
 "metadata": {
  "kernelspec": {
   "display_name": "Python 3",
   "language": "python",
   "name": "python3"
  },
  "language_info": {
   "codemirror_mode": {
    "name": "ipython",
    "version": 3
   },
   "file_extension": ".py",
   "mimetype": "text/x-python",
   "name": "python",
   "nbconvert_exporter": "python",
   "pygments_lexer": "ipython3",
   "version": "3.12.3"
  }
 },
 "nbformat": 4,
 "nbformat_minor": 2
}
